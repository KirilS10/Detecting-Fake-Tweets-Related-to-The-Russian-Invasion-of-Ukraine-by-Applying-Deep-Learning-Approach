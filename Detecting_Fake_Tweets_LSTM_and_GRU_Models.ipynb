{
 "cells": [
  {
   "cell_type": "markdown",
   "id": "44ae8452",
   "metadata": {},
   "source": [
    "# Import the libraries "
   ]
  },
  {
   "cell_type": "code",
   "execution_count": 1,
   "id": "7301b65d",
   "metadata": {},
   "outputs": [],
   "source": [
    "import pandas as pd\n",
    "import numpy as np\n",
    "import os\n",
    "\n",
    "#Visualising Tools\n",
    "\n",
    "import seaborn as sns\n",
    "import matplotlib.pyplot as plt\n",
    "\n",
    "# Words tools\n",
    "import re\n",
    "from sklearn.model_selection import train_test_split\n",
    "from keras.preprocessing.text import Tokenizer\n",
    "from keras.preprocessing.sequence import pad_sequences\n",
    "from nltk.corpus import stopwords\n",
    "from nltk.stem.porter import PorterStemmer\n",
    "from tensorflow.keras.preprocessing.text import one_hot\n",
    "\n",
    "# LSTM tools \n",
    "from keras.models import Sequential\n",
    "from keras.layers import Embedding,Conv1D,LSTM,Dense,Activation,Dropout\n",
    "# GRU-Model\n",
    "from tensorflow.keras.layers import Bidirectional\n",
    "from tensorflow.keras.layers import GRU\n",
    "\n",
    "#Metrics libraries\n",
    "from sklearn import metrics\n",
    "from sklearn.metrics import classification_report\n",
    "from sklearn.model_selection import cross_val_score\n",
    "from sklearn.metrics import roc_auc_score\n",
    "from sklearn.metrics import roc_curve\n",
    "from sklearn.metrics import confusion_matrix\n",
    "from sklearn.metrics import accuracy_score\n",
    "from sklearn.metrics import classification_report, confusion_matrix, accuracy_score,ConfusionMatrixDisplay"
   ]
  },
  {
   "cell_type": "markdown",
   "id": "50a9d612",
   "metadata": {},
   "source": [
    "# Loading the Datasets"
   ]
  },
  {
   "cell_type": "markdown",
   "id": "07c8b2dd",
   "metadata": {},
   "source": [
    "### Loading the Fake Tweets Dataset"
   ]
  },
  {
   "cell_type": "code",
   "execution_count": 2,
   "id": "bad9752e",
   "metadata": {},
   "outputs": [],
   "source": [
    "Df_Fake_Tweets=pd.read_csv('Fake_Tweets.csv')"
   ]
  },
  {
   "cell_type": "code",
   "execution_count": 3,
   "id": "dafb86d9",
   "metadata": {},
   "outputs": [
    {
     "data": {
      "text/html": [
       "<div>\n",
       "<style scoped>\n",
       "    .dataframe tbody tr th:only-of-type {\n",
       "        vertical-align: middle;\n",
       "    }\n",
       "\n",
       "    .dataframe tbody tr th {\n",
       "        vertical-align: top;\n",
       "    }\n",
       "\n",
       "    .dataframe thead th {\n",
       "        text-align: right;\n",
       "    }\n",
       "</style>\n",
       "<table border=\"1\" class=\"dataframe\">\n",
       "  <thead>\n",
       "    <tr style=\"text-align: right;\">\n",
       "      <th></th>\n",
       "      <th>title</th>\n",
       "      <th>text</th>\n",
       "      <th>subject</th>\n",
       "      <th>date</th>\n",
       "    </tr>\n",
       "  </thead>\n",
       "  <tbody>\n",
       "    <tr>\n",
       "      <th>0</th>\n",
       "      <td>Donald Trump Sends Out Embarrassing New Year’...</td>\n",
       "      <td>Donald Trump just couldn t wish all Americans ...</td>\n",
       "      <td>News</td>\n",
       "      <td>December 31, 2017</td>\n",
       "    </tr>\n",
       "    <tr>\n",
       "      <th>1</th>\n",
       "      <td>Drunk Bragging Trump Staffer Started Russian ...</td>\n",
       "      <td>House Intelligence Committee Chairman Devin Nu...</td>\n",
       "      <td>News</td>\n",
       "      <td>December 31, 2017</td>\n",
       "    </tr>\n",
       "    <tr>\n",
       "      <th>2</th>\n",
       "      <td>Sheriff David Clarke Becomes An Internet Joke...</td>\n",
       "      <td>On Friday, it was revealed that former Milwauk...</td>\n",
       "      <td>News</td>\n",
       "      <td>December 30, 2017</td>\n",
       "    </tr>\n",
       "    <tr>\n",
       "      <th>3</th>\n",
       "      <td>Trump Is So Obsessed He Even Has Obama’s Name...</td>\n",
       "      <td>On Christmas day, Donald Trump announced that ...</td>\n",
       "      <td>News</td>\n",
       "      <td>December 29, 2017</td>\n",
       "    </tr>\n",
       "    <tr>\n",
       "      <th>4</th>\n",
       "      <td>Pope Francis Just Called Out Donald Trump Dur...</td>\n",
       "      <td>Pope Francis used his annual Christmas Day mes...</td>\n",
       "      <td>News</td>\n",
       "      <td>December 25, 2017</td>\n",
       "    </tr>\n",
       "  </tbody>\n",
       "</table>\n",
       "</div>"
      ],
      "text/plain": [
       "                                               title  \\\n",
       "0   Donald Trump Sends Out Embarrassing New Year’...   \n",
       "1   Drunk Bragging Trump Staffer Started Russian ...   \n",
       "2   Sheriff David Clarke Becomes An Internet Joke...   \n",
       "3   Trump Is So Obsessed He Even Has Obama’s Name...   \n",
       "4   Pope Francis Just Called Out Donald Trump Dur...   \n",
       "\n",
       "                                                text subject  \\\n",
       "0  Donald Trump just couldn t wish all Americans ...    News   \n",
       "1  House Intelligence Committee Chairman Devin Nu...    News   \n",
       "2  On Friday, it was revealed that former Milwauk...    News   \n",
       "3  On Christmas day, Donald Trump announced that ...    News   \n",
       "4  Pope Francis used his annual Christmas Day mes...    News   \n",
       "\n",
       "                date  \n",
       "0  December 31, 2017  \n",
       "1  December 31, 2017  \n",
       "2  December 30, 2017  \n",
       "3  December 29, 2017  \n",
       "4  December 25, 2017  "
      ]
     },
     "execution_count": 3,
     "metadata": {},
     "output_type": "execute_result"
    }
   ],
   "source": [
    "Df_Fake_Tweets.head(5)"
   ]
  },
  {
   "cell_type": "markdown",
   "id": "9fbd1709",
   "metadata": {},
   "source": [
    "### Loading the True Tweets Dataset"
   ]
  },
  {
   "cell_type": "code",
   "execution_count": 4,
   "id": "b9363817",
   "metadata": {},
   "outputs": [],
   "source": [
    "Df_True_Tweets=pd.read_csv('True_Tweets.csv')"
   ]
  },
  {
   "cell_type": "code",
   "execution_count": 5,
   "id": "67bbea7d",
   "metadata": {},
   "outputs": [
    {
     "data": {
      "text/html": [
       "<div>\n",
       "<style scoped>\n",
       "    .dataframe tbody tr th:only-of-type {\n",
       "        vertical-align: middle;\n",
       "    }\n",
       "\n",
       "    .dataframe tbody tr th {\n",
       "        vertical-align: top;\n",
       "    }\n",
       "\n",
       "    .dataframe thead th {\n",
       "        text-align: right;\n",
       "    }\n",
       "</style>\n",
       "<table border=\"1\" class=\"dataframe\">\n",
       "  <thead>\n",
       "    <tr style=\"text-align: right;\">\n",
       "      <th></th>\n",
       "      <th>text</th>\n",
       "    </tr>\n",
       "  </thead>\n",
       "  <tbody>\n",
       "    <tr>\n",
       "      <th>0</th>\n",
       "      <td>WASHINGTON (Reuters) - The head of a conservat...</td>\n",
       "    </tr>\n",
       "    <tr>\n",
       "      <th>1</th>\n",
       "      <td>WASHINGTON (Reuters) - Transgender people will...</td>\n",
       "    </tr>\n",
       "    <tr>\n",
       "      <th>2</th>\n",
       "      <td>WASHINGTON (Reuters) - The special counsel inv...</td>\n",
       "    </tr>\n",
       "    <tr>\n",
       "      <th>3</th>\n",
       "      <td>WASHINGTON (Reuters) - Trump campaign adviser ...</td>\n",
       "    </tr>\n",
       "    <tr>\n",
       "      <th>4</th>\n",
       "      <td>SEATTLE/WASHINGTON (Reuters) - President Donal...</td>\n",
       "    </tr>\n",
       "  </tbody>\n",
       "</table>\n",
       "</div>"
      ],
      "text/plain": [
       "                                                text\n",
       "0  WASHINGTON (Reuters) - The head of a conservat...\n",
       "1  WASHINGTON (Reuters) - Transgender people will...\n",
       "2  WASHINGTON (Reuters) - The special counsel inv...\n",
       "3  WASHINGTON (Reuters) - Trump campaign adviser ...\n",
       "4  SEATTLE/WASHINGTON (Reuters) - President Donal..."
      ]
     },
     "execution_count": 5,
     "metadata": {},
     "output_type": "execute_result"
    }
   ],
   "source": [
    "Df_True_Tweets.head(5)"
   ]
  },
  {
   "cell_type": "code",
   "execution_count": 6,
   "id": "aabc6d78",
   "metadata": {},
   "outputs": [
    {
     "name": "stdout",
     "output_type": "stream",
     "text": [
      "<class 'pandas.core.frame.DataFrame'>\n",
      "RangeIndex: 29761 entries, 0 to 29760\n",
      "Data columns (total 1 columns):\n",
      " #   Column  Non-Null Count  Dtype \n",
      "---  ------  --------------  ----- \n",
      " 0   text    29761 non-null  object\n",
      "dtypes: object(1)\n",
      "memory usage: 232.6+ KB\n"
     ]
    }
   ],
   "source": [
    "Df_True_Tweets.info()"
   ]
  },
  {
   "cell_type": "markdown",
   "id": "2c423047",
   "metadata": {},
   "source": [
    "### Loading the Russian Fake Tweets Dataset"
   ]
  },
  {
   "cell_type": "code",
   "execution_count": 7,
   "id": "12bf6acd",
   "metadata": {},
   "outputs": [],
   "source": [
    "Df_Russian_Fake_Tweets=pd.read_csv('Russian_Fake_Tweets.csv')"
   ]
  },
  {
   "cell_type": "code",
   "execution_count": 8,
   "id": "bbe9ee54",
   "metadata": {},
   "outputs": [
    {
     "data": {
      "text/html": [
       "<div>\n",
       "<style scoped>\n",
       "    .dataframe tbody tr th:only-of-type {\n",
       "        vertical-align: middle;\n",
       "    }\n",
       "\n",
       "    .dataframe tbody tr th {\n",
       "        vertical-align: top;\n",
       "    }\n",
       "\n",
       "    .dataframe thead th {\n",
       "        text-align: right;\n",
       "    }\n",
       "</style>\n",
       "<table border=\"1\" class=\"dataframe\">\n",
       "  <thead>\n",
       "    <tr style=\"text-align: right;\">\n",
       "      <th></th>\n",
       "      <th>Unnamed: 0</th>\n",
       "      <th>text</th>\n",
       "    </tr>\n",
       "  </thead>\n",
       "  <tbody>\n",
       "    <tr>\n",
       "      <th>0</th>\n",
       "      <td>0</td>\n",
       "      <td>Ukraine has put itself in a situation when ext...</td>\n",
       "    </tr>\n",
       "    <tr>\n",
       "      <th>1</th>\n",
       "      <td>1</td>\n",
       "      <td>Regardless who was behind the recent attack on...</td>\n",
       "    </tr>\n",
       "    <tr>\n",
       "      <th>2</th>\n",
       "      <td>2</td>\n",
       "      <td>Pilsudski is a historical figure, who establis...</td>\n",
       "    </tr>\n",
       "    <tr>\n",
       "      <th>3</th>\n",
       "      <td>3</td>\n",
       "      <td>Washington (and to a large degree Brussels) ar...</td>\n",
       "    </tr>\n",
       "    <tr>\n",
       "      <th>4</th>\n",
       "      <td>4</td>\n",
       "      <td>The beneficiary of the resolution of the Europ...</td>\n",
       "    </tr>\n",
       "  </tbody>\n",
       "</table>\n",
       "</div>"
      ],
      "text/plain": [
       "   Unnamed: 0                                               text\n",
       "0           0  Ukraine has put itself in a situation when ext...\n",
       "1           1  Regardless who was behind the recent attack on...\n",
       "2           2  Pilsudski is a historical figure, who establis...\n",
       "3           3  Washington (and to a large degree Brussels) ar...\n",
       "4           4  The beneficiary of the resolution of the Europ..."
      ]
     },
     "execution_count": 8,
     "metadata": {},
     "output_type": "execute_result"
    }
   ],
   "source": [
    "Df_Russian_Fake_Tweets.head()"
   ]
  },
  {
   "cell_type": "code",
   "execution_count": 9,
   "id": "e4306180",
   "metadata": {},
   "outputs": [
    {
     "name": "stdout",
     "output_type": "stream",
     "text": [
      "<class 'pandas.core.frame.DataFrame'>\n",
      "RangeIndex: 7369 entries, 0 to 7368\n",
      "Data columns (total 2 columns):\n",
      " #   Column      Non-Null Count  Dtype \n",
      "---  ------      --------------  ----- \n",
      " 0   Unnamed: 0  7369 non-null   int64 \n",
      " 1   text        7366 non-null   object\n",
      "dtypes: int64(1), object(1)\n",
      "memory usage: 115.3+ KB\n"
     ]
    }
   ],
   "source": [
    "Df_Russian_Fake_Tweets.info()"
   ]
  },
  {
   "cell_type": "markdown",
   "id": "17308892",
   "metadata": {},
   "source": [
    "# Organizing & Combining Data Sets"
   ]
  },
  {
   "cell_type": "markdown",
   "id": "e7d0c1e0",
   "metadata": {},
   "source": [
    "### Dropping Columns "
   ]
  },
  {
   "cell_type": "code",
   "execution_count": 10,
   "id": "f584af38",
   "metadata": {},
   "outputs": [],
   "source": [
    "# Df_Fake_Tweets\n",
    "Df_Fake_Tweets=Df_Fake_Tweets.drop(columns=['title', 'subject','date'])"
   ]
  },
  {
   "cell_type": "code",
   "execution_count": 11,
   "id": "eb354517",
   "metadata": {},
   "outputs": [
    {
     "data": {
      "text/html": [
       "<div>\n",
       "<style scoped>\n",
       "    .dataframe tbody tr th:only-of-type {\n",
       "        vertical-align: middle;\n",
       "    }\n",
       "\n",
       "    .dataframe tbody tr th {\n",
       "        vertical-align: top;\n",
       "    }\n",
       "\n",
       "    .dataframe thead th {\n",
       "        text-align: right;\n",
       "    }\n",
       "</style>\n",
       "<table border=\"1\" class=\"dataframe\">\n",
       "  <thead>\n",
       "    <tr style=\"text-align: right;\">\n",
       "      <th></th>\n",
       "      <th>text</th>\n",
       "    </tr>\n",
       "  </thead>\n",
       "  <tbody>\n",
       "    <tr>\n",
       "      <th>0</th>\n",
       "      <td>Donald Trump just couldn t wish all Americans ...</td>\n",
       "    </tr>\n",
       "    <tr>\n",
       "      <th>1</th>\n",
       "      <td>House Intelligence Committee Chairman Devin Nu...</td>\n",
       "    </tr>\n",
       "    <tr>\n",
       "      <th>2</th>\n",
       "      <td>On Friday, it was revealed that former Milwauk...</td>\n",
       "    </tr>\n",
       "    <tr>\n",
       "      <th>3</th>\n",
       "      <td>On Christmas day, Donald Trump announced that ...</td>\n",
       "    </tr>\n",
       "    <tr>\n",
       "      <th>4</th>\n",
       "      <td>Pope Francis used his annual Christmas Day mes...</td>\n",
       "    </tr>\n",
       "  </tbody>\n",
       "</table>\n",
       "</div>"
      ],
      "text/plain": [
       "                                                text\n",
       "0  Donald Trump just couldn t wish all Americans ...\n",
       "1  House Intelligence Committee Chairman Devin Nu...\n",
       "2  On Friday, it was revealed that former Milwauk...\n",
       "3  On Christmas day, Donald Trump announced that ...\n",
       "4  Pope Francis used his annual Christmas Day mes..."
      ]
     },
     "execution_count": 11,
     "metadata": {},
     "output_type": "execute_result"
    }
   ],
   "source": [
    "Df_Fake_Tweets.head()"
   ]
  },
  {
   "cell_type": "code",
   "execution_count": 12,
   "id": "1fd17913",
   "metadata": {},
   "outputs": [],
   "source": [
    "#Df_Russian_Fake_Tweets\n",
    "Df_Russian_Fake_Tweets=Df_Russian_Fake_Tweets.drop(columns=['Unnamed: 0'])"
   ]
  },
  {
   "cell_type": "code",
   "execution_count": 13,
   "id": "362e1360",
   "metadata": {},
   "outputs": [
    {
     "data": {
      "text/html": [
       "<div>\n",
       "<style scoped>\n",
       "    .dataframe tbody tr th:only-of-type {\n",
       "        vertical-align: middle;\n",
       "    }\n",
       "\n",
       "    .dataframe tbody tr th {\n",
       "        vertical-align: top;\n",
       "    }\n",
       "\n",
       "    .dataframe thead th {\n",
       "        text-align: right;\n",
       "    }\n",
       "</style>\n",
       "<table border=\"1\" class=\"dataframe\">\n",
       "  <thead>\n",
       "    <tr style=\"text-align: right;\">\n",
       "      <th></th>\n",
       "      <th>text</th>\n",
       "    </tr>\n",
       "  </thead>\n",
       "  <tbody>\n",
       "    <tr>\n",
       "      <th>0</th>\n",
       "      <td>Ukraine has put itself in a situation when ext...</td>\n",
       "    </tr>\n",
       "    <tr>\n",
       "      <th>1</th>\n",
       "      <td>Regardless who was behind the recent attack on...</td>\n",
       "    </tr>\n",
       "    <tr>\n",
       "      <th>2</th>\n",
       "      <td>Pilsudski is a historical figure, who establis...</td>\n",
       "    </tr>\n",
       "    <tr>\n",
       "      <th>3</th>\n",
       "      <td>Washington (and to a large degree Brussels) ar...</td>\n",
       "    </tr>\n",
       "    <tr>\n",
       "      <th>4</th>\n",
       "      <td>The beneficiary of the resolution of the Europ...</td>\n",
       "    </tr>\n",
       "  </tbody>\n",
       "</table>\n",
       "</div>"
      ],
      "text/plain": [
       "                                                text\n",
       "0  Ukraine has put itself in a situation when ext...\n",
       "1  Regardless who was behind the recent attack on...\n",
       "2  Pilsudski is a historical figure, who establis...\n",
       "3  Washington (and to a large degree Brussels) ar...\n",
       "4  The beneficiary of the resolution of the Europ..."
      ]
     },
     "execution_count": 13,
     "metadata": {},
     "output_type": "execute_result"
    }
   ],
   "source": [
    "Df_Russian_Fake_Tweets.head()"
   ]
  },
  {
   "cell_type": "markdown",
   "id": "e0780300",
   "metadata": {},
   "source": [
    "### Assigning labels to data before combining"
   ]
  },
  {
   "cell_type": "code",
   "execution_count": 14,
   "id": "4029cfeb",
   "metadata": {},
   "outputs": [],
   "source": [
    "Df_Fake_Tweets['Target(Fake)'] = 1\n",
    "Df_True_Tweets['Target(Fake)'] = 0\n",
    "Df_Russian_Fake_Tweets['Target(Fake)']=1"
   ]
  },
  {
   "cell_type": "code",
   "execution_count": 15,
   "id": "a20c31eb",
   "metadata": {},
   "outputs": [
    {
     "data": {
      "text/html": [
       "<div>\n",
       "<style scoped>\n",
       "    .dataframe tbody tr th:only-of-type {\n",
       "        vertical-align: middle;\n",
       "    }\n",
       "\n",
       "    .dataframe tbody tr th {\n",
       "        vertical-align: top;\n",
       "    }\n",
       "\n",
       "    .dataframe thead th {\n",
       "        text-align: right;\n",
       "    }\n",
       "</style>\n",
       "<table border=\"1\" class=\"dataframe\">\n",
       "  <thead>\n",
       "    <tr style=\"text-align: right;\">\n",
       "      <th></th>\n",
       "      <th>text</th>\n",
       "      <th>Target(Fake)</th>\n",
       "    </tr>\n",
       "  </thead>\n",
       "  <tbody>\n",
       "    <tr>\n",
       "      <th>0</th>\n",
       "      <td>Donald Trump just couldn t wish all Americans ...</td>\n",
       "      <td>1</td>\n",
       "    </tr>\n",
       "    <tr>\n",
       "      <th>1</th>\n",
       "      <td>House Intelligence Committee Chairman Devin Nu...</td>\n",
       "      <td>1</td>\n",
       "    </tr>\n",
       "    <tr>\n",
       "      <th>2</th>\n",
       "      <td>On Friday, it was revealed that former Milwauk...</td>\n",
       "      <td>1</td>\n",
       "    </tr>\n",
       "    <tr>\n",
       "      <th>3</th>\n",
       "      <td>On Christmas day, Donald Trump announced that ...</td>\n",
       "      <td>1</td>\n",
       "    </tr>\n",
       "    <tr>\n",
       "      <th>4</th>\n",
       "      <td>Pope Francis used his annual Christmas Day mes...</td>\n",
       "      <td>1</td>\n",
       "    </tr>\n",
       "  </tbody>\n",
       "</table>\n",
       "</div>"
      ],
      "text/plain": [
       "                                                text  Target(Fake)\n",
       "0  Donald Trump just couldn t wish all Americans ...             1\n",
       "1  House Intelligence Committee Chairman Devin Nu...             1\n",
       "2  On Friday, it was revealed that former Milwauk...             1\n",
       "3  On Christmas day, Donald Trump announced that ...             1\n",
       "4  Pope Francis used his annual Christmas Day mes...             1"
      ]
     },
     "execution_count": 15,
     "metadata": {},
     "output_type": "execute_result"
    }
   ],
   "source": [
    "Df_Fake_Tweets.head()"
   ]
  },
  {
   "cell_type": "code",
   "execution_count": 16,
   "id": "9850d370",
   "metadata": {},
   "outputs": [
    {
     "data": {
      "text/html": [
       "<div>\n",
       "<style scoped>\n",
       "    .dataframe tbody tr th:only-of-type {\n",
       "        vertical-align: middle;\n",
       "    }\n",
       "\n",
       "    .dataframe tbody tr th {\n",
       "        vertical-align: top;\n",
       "    }\n",
       "\n",
       "    .dataframe thead th {\n",
       "        text-align: right;\n",
       "    }\n",
       "</style>\n",
       "<table border=\"1\" class=\"dataframe\">\n",
       "  <thead>\n",
       "    <tr style=\"text-align: right;\">\n",
       "      <th></th>\n",
       "      <th>text</th>\n",
       "      <th>Target(Fake)</th>\n",
       "    </tr>\n",
       "  </thead>\n",
       "  <tbody>\n",
       "    <tr>\n",
       "      <th>0</th>\n",
       "      <td>WASHINGTON (Reuters) - The head of a conservat...</td>\n",
       "      <td>0</td>\n",
       "    </tr>\n",
       "    <tr>\n",
       "      <th>1</th>\n",
       "      <td>WASHINGTON (Reuters) - Transgender people will...</td>\n",
       "      <td>0</td>\n",
       "    </tr>\n",
       "    <tr>\n",
       "      <th>2</th>\n",
       "      <td>WASHINGTON (Reuters) - The special counsel inv...</td>\n",
       "      <td>0</td>\n",
       "    </tr>\n",
       "    <tr>\n",
       "      <th>3</th>\n",
       "      <td>WASHINGTON (Reuters) - Trump campaign adviser ...</td>\n",
       "      <td>0</td>\n",
       "    </tr>\n",
       "    <tr>\n",
       "      <th>4</th>\n",
       "      <td>SEATTLE/WASHINGTON (Reuters) - President Donal...</td>\n",
       "      <td>0</td>\n",
       "    </tr>\n",
       "  </tbody>\n",
       "</table>\n",
       "</div>"
      ],
      "text/plain": [
       "                                                text  Target(Fake)\n",
       "0  WASHINGTON (Reuters) - The head of a conservat...             0\n",
       "1  WASHINGTON (Reuters) - Transgender people will...             0\n",
       "2  WASHINGTON (Reuters) - The special counsel inv...             0\n",
       "3  WASHINGTON (Reuters) - Trump campaign adviser ...             0\n",
       "4  SEATTLE/WASHINGTON (Reuters) - President Donal...             0"
      ]
     },
     "execution_count": 16,
     "metadata": {},
     "output_type": "execute_result"
    }
   ],
   "source": [
    "Df_True_Tweets.head()"
   ]
  },
  {
   "cell_type": "code",
   "execution_count": 17,
   "id": "977caeaf",
   "metadata": {},
   "outputs": [
    {
     "data": {
      "text/html": [
       "<div>\n",
       "<style scoped>\n",
       "    .dataframe tbody tr th:only-of-type {\n",
       "        vertical-align: middle;\n",
       "    }\n",
       "\n",
       "    .dataframe tbody tr th {\n",
       "        vertical-align: top;\n",
       "    }\n",
       "\n",
       "    .dataframe thead th {\n",
       "        text-align: right;\n",
       "    }\n",
       "</style>\n",
       "<table border=\"1\" class=\"dataframe\">\n",
       "  <thead>\n",
       "    <tr style=\"text-align: right;\">\n",
       "      <th></th>\n",
       "      <th>text</th>\n",
       "      <th>Target(Fake)</th>\n",
       "    </tr>\n",
       "  </thead>\n",
       "  <tbody>\n",
       "    <tr>\n",
       "      <th>0</th>\n",
       "      <td>Ukraine has put itself in a situation when ext...</td>\n",
       "      <td>1</td>\n",
       "    </tr>\n",
       "    <tr>\n",
       "      <th>1</th>\n",
       "      <td>Regardless who was behind the recent attack on...</td>\n",
       "      <td>1</td>\n",
       "    </tr>\n",
       "    <tr>\n",
       "      <th>2</th>\n",
       "      <td>Pilsudski is a historical figure, who establis...</td>\n",
       "      <td>1</td>\n",
       "    </tr>\n",
       "    <tr>\n",
       "      <th>3</th>\n",
       "      <td>Washington (and to a large degree Brussels) ar...</td>\n",
       "      <td>1</td>\n",
       "    </tr>\n",
       "    <tr>\n",
       "      <th>4</th>\n",
       "      <td>The beneficiary of the resolution of the Europ...</td>\n",
       "      <td>1</td>\n",
       "    </tr>\n",
       "  </tbody>\n",
       "</table>\n",
       "</div>"
      ],
      "text/plain": [
       "                                                text  Target(Fake)\n",
       "0  Ukraine has put itself in a situation when ext...             1\n",
       "1  Regardless who was behind the recent attack on...             1\n",
       "2  Pilsudski is a historical figure, who establis...             1\n",
       "3  Washington (and to a large degree Brussels) ar...             1\n",
       "4  The beneficiary of the resolution of the Europ...             1"
      ]
     },
     "execution_count": 17,
     "metadata": {},
     "output_type": "execute_result"
    }
   ],
   "source": [
    "Df_Russian_Fake_Tweets.head(5)"
   ]
  },
  {
   "cell_type": "markdown",
   "id": "3a613588",
   "metadata": {},
   "source": [
    "### Combining the datasets in one master dataset"
   ]
  },
  {
   "cell_type": "code",
   "execution_count": 18,
   "id": "b368f282",
   "metadata": {},
   "outputs": [],
   "source": [
    "Df_master = pd.concat([Df_Fake_Tweets,Df_True_Tweets,Df_Russian_Fake_Tweets])"
   ]
  },
  {
   "cell_type": "code",
   "execution_count": 19,
   "id": "ef9bc88a",
   "metadata": {},
   "outputs": [
    {
     "data": {
      "text/html": [
       "<div>\n",
       "<style scoped>\n",
       "    .dataframe tbody tr th:only-of-type {\n",
       "        vertical-align: middle;\n",
       "    }\n",
       "\n",
       "    .dataframe tbody tr th {\n",
       "        vertical-align: top;\n",
       "    }\n",
       "\n",
       "    .dataframe thead th {\n",
       "        text-align: right;\n",
       "    }\n",
       "</style>\n",
       "<table border=\"1\" class=\"dataframe\">\n",
       "  <thead>\n",
       "    <tr style=\"text-align: right;\">\n",
       "      <th></th>\n",
       "      <th>text</th>\n",
       "      <th>Target(Fake)</th>\n",
       "    </tr>\n",
       "  </thead>\n",
       "  <tbody>\n",
       "    <tr>\n",
       "      <th>0</th>\n",
       "      <td>Donald Trump just couldn t wish all Americans ...</td>\n",
       "      <td>1</td>\n",
       "    </tr>\n",
       "    <tr>\n",
       "      <th>1</th>\n",
       "      <td>House Intelligence Committee Chairman Devin Nu...</td>\n",
       "      <td>1</td>\n",
       "    </tr>\n",
       "    <tr>\n",
       "      <th>2</th>\n",
       "      <td>On Friday, it was revealed that former Milwauk...</td>\n",
       "      <td>1</td>\n",
       "    </tr>\n",
       "    <tr>\n",
       "      <th>3</th>\n",
       "      <td>On Christmas day, Donald Trump announced that ...</td>\n",
       "      <td>1</td>\n",
       "    </tr>\n",
       "    <tr>\n",
       "      <th>4</th>\n",
       "      <td>Pope Francis used his annual Christmas Day mes...</td>\n",
       "      <td>1</td>\n",
       "    </tr>\n",
       "  </tbody>\n",
       "</table>\n",
       "</div>"
      ],
      "text/plain": [
       "                                                text  Target(Fake)\n",
       "0  Donald Trump just couldn t wish all Americans ...             1\n",
       "1  House Intelligence Committee Chairman Devin Nu...             1\n",
       "2  On Friday, it was revealed that former Milwauk...             1\n",
       "3  On Christmas day, Donald Trump announced that ...             1\n",
       "4  Pope Francis used his annual Christmas Day mes...             1"
      ]
     },
     "execution_count": 19,
     "metadata": {},
     "output_type": "execute_result"
    }
   ],
   "source": [
    "Df_master.head()"
   ]
  },
  {
   "cell_type": "code",
   "execution_count": 20,
   "id": "ec689e0c",
   "metadata": {},
   "outputs": [
    {
     "data": {
      "text/html": [
       "<div>\n",
       "<style scoped>\n",
       "    .dataframe tbody tr th:only-of-type {\n",
       "        vertical-align: middle;\n",
       "    }\n",
       "\n",
       "    .dataframe tbody tr th {\n",
       "        vertical-align: top;\n",
       "    }\n",
       "\n",
       "    .dataframe thead th {\n",
       "        text-align: right;\n",
       "    }\n",
       "</style>\n",
       "<table border=\"1\" class=\"dataframe\">\n",
       "  <thead>\n",
       "    <tr style=\"text-align: right;\">\n",
       "      <th></th>\n",
       "      <th>text</th>\n",
       "      <th>Target(Fake)</th>\n",
       "    </tr>\n",
       "  </thead>\n",
       "  <tbody>\n",
       "    <tr>\n",
       "      <th>0</th>\n",
       "      <td>Donald Trump just couldn t wish all Americans ...</td>\n",
       "      <td>1</td>\n",
       "    </tr>\n",
       "    <tr>\n",
       "      <th>1</th>\n",
       "      <td>House Intelligence Committee Chairman Devin Nu...</td>\n",
       "      <td>1</td>\n",
       "    </tr>\n",
       "    <tr>\n",
       "      <th>2</th>\n",
       "      <td>On Friday, it was revealed that former Milwauk...</td>\n",
       "      <td>1</td>\n",
       "    </tr>\n",
       "    <tr>\n",
       "      <th>3</th>\n",
       "      <td>On Christmas day, Donald Trump announced that ...</td>\n",
       "      <td>1</td>\n",
       "    </tr>\n",
       "    <tr>\n",
       "      <th>4</th>\n",
       "      <td>Pope Francis used his annual Christmas Day mes...</td>\n",
       "      <td>1</td>\n",
       "    </tr>\n",
       "  </tbody>\n",
       "</table>\n",
       "</div>"
      ],
      "text/plain": [
       "                                                text  Target(Fake)\n",
       "0  Donald Trump just couldn t wish all Americans ...             1\n",
       "1  House Intelligence Committee Chairman Devin Nu...             1\n",
       "2  On Friday, it was revealed that former Milwauk...             1\n",
       "3  On Christmas day, Donald Trump announced that ...             1\n",
       "4  Pope Francis used his annual Christmas Day mes...             1"
      ]
     },
     "execution_count": 20,
     "metadata": {},
     "output_type": "execute_result"
    }
   ],
   "source": [
    "Df_master.head()"
   ]
  },
  {
   "cell_type": "markdown",
   "id": "8b61eb98",
   "metadata": {},
   "source": [
    "\n",
    "### Shuffling the DataFrame rows"
   ]
  },
  {
   "cell_type": "code",
   "execution_count": 21,
   "id": "e7d46765",
   "metadata": {},
   "outputs": [],
   "source": [
    "Df_master = Df_master.sample(frac = 1).reset_index(drop=True)"
   ]
  },
  {
   "cell_type": "code",
   "execution_count": 22,
   "id": "f77e8dd5",
   "metadata": {},
   "outputs": [
    {
     "data": {
      "text/html": [
       "<div>\n",
       "<style scoped>\n",
       "    .dataframe tbody tr th:only-of-type {\n",
       "        vertical-align: middle;\n",
       "    }\n",
       "\n",
       "    .dataframe tbody tr th {\n",
       "        vertical-align: top;\n",
       "    }\n",
       "\n",
       "    .dataframe thead th {\n",
       "        text-align: right;\n",
       "    }\n",
       "</style>\n",
       "<table border=\"1\" class=\"dataframe\">\n",
       "  <thead>\n",
       "    <tr style=\"text-align: right;\">\n",
       "      <th></th>\n",
       "      <th>text</th>\n",
       "      <th>Target(Fake)</th>\n",
       "    </tr>\n",
       "  </thead>\n",
       "  <tbody>\n",
       "    <tr>\n",
       "      <th>0</th>\n",
       "      <td>WASHINGTON (Reuters) - The United States on Tu...</td>\n",
       "      <td>0</td>\n",
       "    </tr>\n",
       "    <tr>\n",
       "      <th>1</th>\n",
       "      <td>An explosive allegation has come out of Tasnim...</td>\n",
       "      <td>1</td>\n",
       "    </tr>\n",
       "    <tr>\n",
       "      <th>2</th>\n",
       "      <td>New Black Panther Entertainer of The Year, Bey...</td>\n",
       "      <td>1</td>\n",
       "    </tr>\n",
       "    <tr>\n",
       "      <th>3</th>\n",
       "      <td>Hillary s been using churches across America a...</td>\n",
       "      <td>1</td>\n",
       "    </tr>\n",
       "    <tr>\n",
       "      <th>4</th>\n",
       "      <td>The Queen of the DNC is in big trouble 1000+ B...</td>\n",
       "      <td>1</td>\n",
       "    </tr>\n",
       "    <tr>\n",
       "      <th>...</th>\n",
       "      <td>...</td>\n",
       "      <td>...</td>\n",
       "    </tr>\n",
       "    <tr>\n",
       "      <th>60606</th>\n",
       "      <td>WASHINGTON (Reuters) - The top U.S. Senate Dem...</td>\n",
       "      <td>0</td>\n",
       "    </tr>\n",
       "    <tr>\n",
       "      <th>60607</th>\n",
       "      <td>KUALA LUMPUR (Reuters) - Malaysian Prime Minis...</td>\n",
       "      <td>0</td>\n",
       "    </tr>\n",
       "    <tr>\n",
       "      <th>60608</th>\n",
       "      <td>WASHINGTON (Reuters) - U.S. President Barack O...</td>\n",
       "      <td>0</td>\n",
       "    </tr>\n",
       "    <tr>\n",
       "      <th>60609</th>\n",
       "      <td>LONDON (Reuters) - Iranian President Hassan Ro...</td>\n",
       "      <td>0</td>\n",
       "    </tr>\n",
       "    <tr>\n",
       "      <th>60610</th>\n",
       "      <td>ANKARA (Reuters) - Turkish President Tayyip Er...</td>\n",
       "      <td>0</td>\n",
       "    </tr>\n",
       "  </tbody>\n",
       "</table>\n",
       "<p>60611 rows × 2 columns</p>\n",
       "</div>"
      ],
      "text/plain": [
       "                                                    text  Target(Fake)\n",
       "0      WASHINGTON (Reuters) - The United States on Tu...             0\n",
       "1      An explosive allegation has come out of Tasnim...             1\n",
       "2      New Black Panther Entertainer of The Year, Bey...             1\n",
       "3      Hillary s been using churches across America a...             1\n",
       "4      The Queen of the DNC is in big trouble 1000+ B...             1\n",
       "...                                                  ...           ...\n",
       "60606  WASHINGTON (Reuters) - The top U.S. Senate Dem...             0\n",
       "60607  KUALA LUMPUR (Reuters) - Malaysian Prime Minis...             0\n",
       "60608  WASHINGTON (Reuters) - U.S. President Barack O...             0\n",
       "60609  LONDON (Reuters) - Iranian President Hassan Ro...             0\n",
       "60610  ANKARA (Reuters) - Turkish President Tayyip Er...             0\n",
       "\n",
       "[60611 rows x 2 columns]"
      ]
     },
     "execution_count": 22,
     "metadata": {},
     "output_type": "execute_result"
    }
   ],
   "source": [
    "Df_master"
   ]
  },
  {
   "cell_type": "markdown",
   "id": "537c0010",
   "metadata": {},
   "source": [
    "# Exploratory Data Analysis"
   ]
  },
  {
   "cell_type": "code",
   "execution_count": 23,
   "id": "29e4f9ab",
   "metadata": {},
   "outputs": [
    {
     "name": "stdout",
     "output_type": "stream",
     "text": [
      "<class 'pandas.core.frame.DataFrame'>\n",
      "RangeIndex: 60611 entries, 0 to 60610\n",
      "Data columns (total 2 columns):\n",
      " #   Column        Non-Null Count  Dtype \n",
      "---  ------        --------------  ----- \n",
      " 0   text          60608 non-null  object\n",
      " 1   Target(Fake)  60611 non-null  int64 \n",
      "dtypes: int64(1), object(1)\n",
      "memory usage: 947.2+ KB\n"
     ]
    }
   ],
   "source": [
    "Df_master.info()"
   ]
  },
  {
   "cell_type": "markdown",
   "id": "8c82e2f2",
   "metadata": {},
   "source": [
    "### Checking missing values "
   ]
  },
  {
   "cell_type": "code",
   "execution_count": 24,
   "id": "543012ef",
   "metadata": {},
   "outputs": [
    {
     "data": {
      "text/plain": [
       "text            3\n",
       "Target(Fake)    0\n",
       "dtype: int64"
      ]
     },
     "execution_count": 24,
     "metadata": {},
     "output_type": "execute_result"
    }
   ],
   "source": [
    "Df_master.isna().sum()"
   ]
  },
  {
   "cell_type": "markdown",
   "id": "3fb425d0",
   "metadata": {},
   "source": [
    "### Dropping all missing values"
   ]
  },
  {
   "cell_type": "code",
   "execution_count": 25,
   "id": "6fd103b9",
   "metadata": {},
   "outputs": [],
   "source": [
    "Df_master=Df_master.dropna()"
   ]
  },
  {
   "cell_type": "code",
   "execution_count": 26,
   "id": "067e1406",
   "metadata": {},
   "outputs": [
    {
     "name": "stdout",
     "output_type": "stream",
     "text": [
      "<class 'pandas.core.frame.DataFrame'>\n",
      "Int64Index: 60608 entries, 0 to 60610\n",
      "Data columns (total 2 columns):\n",
      " #   Column        Non-Null Count  Dtype \n",
      "---  ------        --------------  ----- \n",
      " 0   text          60608 non-null  object\n",
      " 1   Target(Fake)  60608 non-null  int64 \n",
      "dtypes: int64(1), object(1)\n",
      "memory usage: 1.4+ MB\n"
     ]
    }
   ],
   "source": [
    "Df_master.info()"
   ]
  },
  {
   "cell_type": "markdown",
   "id": "dd21fa6b",
   "metadata": {},
   "source": [
    "### Looking at some fake news"
   ]
  },
  {
   "cell_type": "code",
   "execution_count": 27,
   "id": "36b6ec41",
   "metadata": {},
   "outputs": [
    {
     "data": {
      "text/html": [
       "<div>\n",
       "<style scoped>\n",
       "    .dataframe tbody tr th:only-of-type {\n",
       "        vertical-align: middle;\n",
       "    }\n",
       "\n",
       "    .dataframe tbody tr th {\n",
       "        vertical-align: top;\n",
       "    }\n",
       "\n",
       "    .dataframe thead th {\n",
       "        text-align: right;\n",
       "    }\n",
       "</style>\n",
       "<table border=\"1\" class=\"dataframe\">\n",
       "  <thead>\n",
       "    <tr style=\"text-align: right;\">\n",
       "      <th></th>\n",
       "      <th>text</th>\n",
       "      <th>Target(Fake)</th>\n",
       "    </tr>\n",
       "  </thead>\n",
       "  <tbody>\n",
       "    <tr>\n",
       "      <th>1</th>\n",
       "      <td>An explosive allegation has come out of Tasnim...</td>\n",
       "      <td>1</td>\n",
       "    </tr>\n",
       "    <tr>\n",
       "      <th>2</th>\n",
       "      <td>New Black Panther Entertainer of The Year, Bey...</td>\n",
       "      <td>1</td>\n",
       "    </tr>\n",
       "    <tr>\n",
       "      <th>3</th>\n",
       "      <td>Hillary s been using churches across America a...</td>\n",
       "      <td>1</td>\n",
       "    </tr>\n",
       "    <tr>\n",
       "      <th>4</th>\n",
       "      <td>The Queen of the DNC is in big trouble 1000+ B...</td>\n",
       "      <td>1</td>\n",
       "    </tr>\n",
       "    <tr>\n",
       "      <th>8</th>\n",
       "      <td>By now, all of us know that Trump is a complet...</td>\n",
       "      <td>1</td>\n",
       "    </tr>\n",
       "  </tbody>\n",
       "</table>\n",
       "</div>"
      ],
      "text/plain": [
       "                                                text  Target(Fake)\n",
       "1  An explosive allegation has come out of Tasnim...             1\n",
       "2  New Black Panther Entertainer of The Year, Bey...             1\n",
       "3  Hillary s been using churches across America a...             1\n",
       "4  The Queen of the DNC is in big trouble 1000+ B...             1\n",
       "8  By now, all of us know that Trump is a complet...             1"
      ]
     },
     "execution_count": 27,
     "metadata": {},
     "output_type": "execute_result"
    }
   ],
   "source": [
    "Df_master[Df_master['Target(Fake)']==1].head()"
   ]
  },
  {
   "cell_type": "markdown",
   "id": "985e4eec",
   "metadata": {},
   "source": [
    "### Looking at some True news"
   ]
  },
  {
   "cell_type": "code",
   "execution_count": 28,
   "id": "9a6a755e",
   "metadata": {},
   "outputs": [
    {
     "data": {
      "text/html": [
       "<div>\n",
       "<style scoped>\n",
       "    .dataframe tbody tr th:only-of-type {\n",
       "        vertical-align: middle;\n",
       "    }\n",
       "\n",
       "    .dataframe tbody tr th {\n",
       "        vertical-align: top;\n",
       "    }\n",
       "\n",
       "    .dataframe thead th {\n",
       "        text-align: right;\n",
       "    }\n",
       "</style>\n",
       "<table border=\"1\" class=\"dataframe\">\n",
       "  <thead>\n",
       "    <tr style=\"text-align: right;\">\n",
       "      <th></th>\n",
       "      <th>text</th>\n",
       "      <th>Target(Fake)</th>\n",
       "    </tr>\n",
       "  </thead>\n",
       "  <tbody>\n",
       "    <tr>\n",
       "      <th>0</th>\n",
       "      <td>WASHINGTON (Reuters) - The United States on Tu...</td>\n",
       "      <td>0</td>\n",
       "    </tr>\n",
       "    <tr>\n",
       "      <th>5</th>\n",
       "      <td>(Reuters) - U.S. President Donald Trump and Ch...</td>\n",
       "      <td>0</td>\n",
       "    </tr>\n",
       "    <tr>\n",
       "      <th>6</th>\n",
       "      <td>WASHINGTON (Reuters) - Republican presidential...</td>\n",
       "      <td>0</td>\n",
       "    </tr>\n",
       "    <tr>\n",
       "      <th>7</th>\n",
       "      <td>WASHINGTON (Reuters) - In a big victory for th...</td>\n",
       "      <td>0</td>\n",
       "    </tr>\n",
       "    <tr>\n",
       "      <th>9</th>\n",
       "      <td>@EmilioMorenatti Amazing, heart wrenching phot...</td>\n",
       "      <td>0</td>\n",
       "    </tr>\n",
       "  </tbody>\n",
       "</table>\n",
       "</div>"
      ],
      "text/plain": [
       "                                                text  Target(Fake)\n",
       "0  WASHINGTON (Reuters) - The United States on Tu...             0\n",
       "5  (Reuters) - U.S. President Donald Trump and Ch...             0\n",
       "6  WASHINGTON (Reuters) - Republican presidential...             0\n",
       "7  WASHINGTON (Reuters) - In a big victory for th...             0\n",
       "9  @EmilioMorenatti Amazing, heart wrenching phot...             0"
      ]
     },
     "execution_count": 28,
     "metadata": {},
     "output_type": "execute_result"
    }
   ],
   "source": [
    "Df_master[Df_master['Target(Fake)']==0].head()"
   ]
  },
  {
   "cell_type": "markdown",
   "id": "be5aa423",
   "metadata": {},
   "source": [
    "### Checking Target Column Distribution"
   ]
  },
  {
   "cell_type": "code",
   "execution_count": 29,
   "id": "1c1c6936",
   "metadata": {},
   "outputs": [
    {
     "data": {
      "text/plain": [
       "1    30847\n",
       "0    29761\n",
       "Name: Target(Fake), dtype: int64"
      ]
     },
     "execution_count": 29,
     "metadata": {},
     "output_type": "execute_result"
    }
   ],
   "source": [
    "Df_master['Target(Fake)'].value_counts()"
   ]
  },
  {
   "cell_type": "markdown",
   "id": "101b6e9e",
   "metadata": {},
   "source": [
    "#### It looks that the dataset is slightly unbalanced , because Russian_Fake_Tweets dataset was added "
   ]
  },
  {
   "cell_type": "markdown",
   "id": "12211616",
   "metadata": {},
   "source": [
    "### Visualising the Target Column Distribution "
   ]
  },
  {
   "cell_type": "code",
   "execution_count": 30,
   "id": "fad54a8e",
   "metadata": {},
   "outputs": [
    {
     "name": "stderr",
     "output_type": "stream",
     "text": [
      "/Users/kirilsbook/opt/anaconda3/lib/python3.9/site-packages/seaborn/_decorators.py:36: FutureWarning: Pass the following variable as a keyword arg: x. From version 0.12, the only valid positional argument will be `data`, and passing other arguments without an explicit keyword will result in an error or misinterpretation.\n",
      "  warnings.warn(\n"
     ]
    },
    {
     "data": {
      "text/plain": [
       "<AxesSubplot:xlabel='Target(Fake)', ylabel='count'>"
      ]
     },
     "execution_count": 30,
     "metadata": {},
     "output_type": "execute_result"
    },
    {
     "data": {
      "image/png": "[encoded data removed]",
      "text/plain": [
       "<Figure size 432x288 with 1 Axes>"
      ]
     },
     "metadata": {
      "needs_background": "light"
     },
     "output_type": "display_data"
    }
   ],
   "source": [
    "sns.countplot(Df_master['Target(Fake)'])"
   ]
  },
  {
   "cell_type": "markdown",
   "id": "9b57cc84",
   "metadata": {},
   "source": [
    "### Text length Distribution (Fake Tweets & True Tweets)"
   ]
  },
  {
   "cell_type": "code",
   "execution_count": 31,
   "id": "05913cdb",
   "metadata": {},
   "outputs": [
    {
     "name": "stderr",
     "output_type": "stream",
     "text": [
      "/var/folders/h6/8dp078m52pg2874gjjbwd0lc0000gn/T/ipykernel_19042/1461713076.py:1: SettingWithCopyWarning: \n",
      "A value is trying to be set on a copy of a slice from a DataFrame.\n",
      "Try using .loc[row_indexer,col_indexer] = value instead\n",
      "\n",
      "See the caveats in the documentation: https://pandas.pydata.org/pandas-docs/stable/user_guide/indexing.html#returning-a-view-versus-a-copy\n",
      "  Df_master['text_length'] = Df_master.text.apply(lambda x: len(x.split()))\n"
     ]
    }
   ],
   "source": [
    "Df_master['text_length'] = Df_master.text.apply(lambda x: len(x.split()))"
   ]
  },
  {
   "cell_type": "code",
   "execution_count": 32,
   "id": "b487c062",
   "metadata": {},
   "outputs": [
    {
     "data": {
      "text/html": [
       "<div>\n",
       "<style scoped>\n",
       "    .dataframe tbody tr th:only-of-type {\n",
       "        vertical-align: middle;\n",
       "    }\n",
       "\n",
       "    .dataframe tbody tr th {\n",
       "        vertical-align: top;\n",
       "    }\n",
       "\n",
       "    .dataframe thead th {\n",
       "        text-align: right;\n",
       "    }\n",
       "</style>\n",
       "<table border=\"1\" class=\"dataframe\">\n",
       "  <thead>\n",
       "    <tr style=\"text-align: right;\">\n",
       "      <th></th>\n",
       "      <th>text</th>\n",
       "      <th>Target(Fake)</th>\n",
       "      <th>text_length</th>\n",
       "    </tr>\n",
       "  </thead>\n",
       "  <tbody>\n",
       "    <tr>\n",
       "      <th>0</th>\n",
       "      <td>WASHINGTON (Reuters) - The United States on Tu...</td>\n",
       "      <td>0</td>\n",
       "      <td>80</td>\n",
       "    </tr>\n",
       "    <tr>\n",
       "      <th>1</th>\n",
       "      <td>An explosive allegation has come out of Tasnim...</td>\n",
       "      <td>1</td>\n",
       "      <td>414</td>\n",
       "    </tr>\n",
       "    <tr>\n",
       "      <th>2</th>\n",
       "      <td>New Black Panther Entertainer of The Year, Bey...</td>\n",
       "      <td>1</td>\n",
       "      <td>240</td>\n",
       "    </tr>\n",
       "    <tr>\n",
       "      <th>3</th>\n",
       "      <td>Hillary s been using churches across America a...</td>\n",
       "      <td>1</td>\n",
       "      <td>205</td>\n",
       "    </tr>\n",
       "    <tr>\n",
       "      <th>4</th>\n",
       "      <td>The Queen of the DNC is in big trouble 1000+ B...</td>\n",
       "      <td>1</td>\n",
       "      <td>32</td>\n",
       "    </tr>\n",
       "  </tbody>\n",
       "</table>\n",
       "</div>"
      ],
      "text/plain": [
       "                                                text  Target(Fake)  \\\n",
       "0  WASHINGTON (Reuters) - The United States on Tu...             0   \n",
       "1  An explosive allegation has come out of Tasnim...             1   \n",
       "2  New Black Panther Entertainer of The Year, Bey...             1   \n",
       "3  Hillary s been using churches across America a...             1   \n",
       "4  The Queen of the DNC is in big trouble 1000+ B...             1   \n",
       "\n",
       "   text_length  \n",
       "0           80  \n",
       "1          414  \n",
       "2          240  \n",
       "3          205  \n",
       "4           32  "
      ]
     },
     "execution_count": 32,
     "metadata": {},
     "output_type": "execute_result"
    }
   ],
   "source": [
    "Df_master.head()"
   ]
  },
  {
   "cell_type": "code",
   "execution_count": 33,
   "id": "b03972dd",
   "metadata": {},
   "outputs": [],
   "source": [
    "Fake = Df_master[Df_master['Target(Fake)'] == 1]\n",
    "Real = Df_master[Df_master['Target(Fake)']== 0]"
   ]
  },
  {
   "cell_type": "code",
   "execution_count": 34,
   "id": "36838d4a",
   "metadata": {},
   "outputs": [
    {
     "name": "stderr",
     "output_type": "stream",
     "text": [
      "/Users/kirilsbook/opt/anaconda3/lib/python3.9/site-packages/seaborn/distributions.py:2619: FutureWarning: `distplot` is a deprecated function and will be removed in a future version. Please adapt your code to use either `displot` (a figure-level function with similar flexibility) or `histplot` (an axes-level function for histograms).\n",
      "  warnings.warn(msg, FutureWarning)\n",
      "/Users/kirilsbook/opt/anaconda3/lib/python3.9/site-packages/seaborn/distributions.py:2619: FutureWarning: `distplot` is a deprecated function and will be removed in a future version. Please adapt your code to use either `displot` (a figure-level function with similar flexibility) or `histplot` (an axes-level function for histograms).\n",
      "  warnings.warn(msg, FutureWarning)\n"
     ]
    },
    {
     "data": {
      "image/png": "[encoded data removed]",
      "text/plain": [
       "<Figure size 720x504 with 1 Axes>"
      ]
     },
     "metadata": {
      "needs_background": "light"
     },
     "output_type": "display_data"
    }
   ],
   "source": [
    "plt.figure(figsize=(10,7))\n",
    "sns.distplot(Fake.text_length, hist= True, label= 'Fake')\n",
    "sns.distplot(Real.text_length, hist= True, label= 'Real')\n",
    "plt.legend()\n",
    "plt.title('Text Length Distribution by Class', fontsize = 10)\n",
    "plt.show()"
   ]
  },
  {
   "cell_type": "markdown",
   "id": "7a71b0d1",
   "metadata": {},
   "source": [
    "#### It seems that the text length of both categories(Fake Tweets and Real Tweets) are almost equal, as we can see the big majority of tweets have text length between 1 - 1000 symbols.  "
   ]
  },
  {
   "cell_type": "markdown",
   "id": "d69082a5",
   "metadata": {},
   "source": [
    "### Drooping 'text_length' column"
   ]
  },
  {
   "cell_type": "code",
   "execution_count": 35,
   "id": "26c4cd97",
   "metadata": {},
   "outputs": [],
   "source": [
    "Df_master=Df_master.drop(columns='text_length')"
   ]
  },
  {
   "cell_type": "markdown",
   "id": "0583dc98",
   "metadata": {},
   "source": [
    "# Data Preparation Process"
   ]
  },
  {
   "cell_type": "markdown",
   "id": "5995ca43",
   "metadata": {},
   "source": [
    "### Removing RT, Punctuation etc"
   ]
  },
  {
   "cell_type": "code",
   "execution_count": 36,
   "id": "7383fe3e",
   "metadata": {},
   "outputs": [],
   "source": [
    "def delete_punc(x): return re.sub('RT @\\w+: ', \" \", x)"
   ]
  },
  {
   "cell_type": "code",
   "execution_count": 37,
   "id": "00f4c41c",
   "metadata": {},
   "outputs": [],
   "source": [
    "def dp(x): return re.sub(\n",
    "    \"(@[A-Za-z0-9]+)|([^0-9A-Za-z \\t])|(\\w+:\\/\\/\\S+)\", \" \", x)"
   ]
  },
  {
   "cell_type": "markdown",
   "id": "0d432ca1",
   "metadata": {},
   "source": [
    "### Removing punctuations, tags, and annotations and all texts are converted to lower case to avoid duplication of the same words"
   ]
  },
  {
   "cell_type": "code",
   "execution_count": 38,
   "id": "0c449f3f",
   "metadata": {},
   "outputs": [],
   "source": [
    "Df_master[\"text\"] = Df_master.text.map(delete_punc).map(dp)\n",
    "Df_master[\"text\"] = Df_master.text.str.lower()"
   ]
  },
  {
   "cell_type": "code",
   "execution_count": 39,
   "id": "5b8d4663",
   "metadata": {},
   "outputs": [
    {
     "data": {
      "text/html": [
       "<div>\n",
       "<style scoped>\n",
       "    .dataframe tbody tr th:only-of-type {\n",
       "        vertical-align: middle;\n",
       "    }\n",
       "\n",
       "    .dataframe tbody tr th {\n",
       "        vertical-align: top;\n",
       "    }\n",
       "\n",
       "    .dataframe thead th {\n",
       "        text-align: right;\n",
       "    }\n",
       "</style>\n",
       "<table border=\"1\" class=\"dataframe\">\n",
       "  <thead>\n",
       "    <tr style=\"text-align: right;\">\n",
       "      <th></th>\n",
       "      <th>text</th>\n",
       "      <th>Target(Fake)</th>\n",
       "    </tr>\n",
       "  </thead>\n",
       "  <tbody>\n",
       "    <tr>\n",
       "      <th>0</th>\n",
       "      <td>washington  reuters    the united states on tu...</td>\n",
       "      <td>0</td>\n",
       "    </tr>\n",
       "    <tr>\n",
       "      <th>1</th>\n",
       "      <td>an explosive allegation has come out of tasnim...</td>\n",
       "      <td>1</td>\n",
       "    </tr>\n",
       "    <tr>\n",
       "      <th>2</th>\n",
       "      <td>new black panther entertainer of the year  bey...</td>\n",
       "      <td>1</td>\n",
       "    </tr>\n",
       "    <tr>\n",
       "      <th>3</th>\n",
       "      <td>hillary s been using churches across america a...</td>\n",
       "      <td>1</td>\n",
       "    </tr>\n",
       "    <tr>\n",
       "      <th>4</th>\n",
       "      <td>the queen of the dnc is in big trouble 1000  b...</td>\n",
       "      <td>1</td>\n",
       "    </tr>\n",
       "    <tr>\n",
       "      <th>...</th>\n",
       "      <td>...</td>\n",
       "      <td>...</td>\n",
       "    </tr>\n",
       "    <tr>\n",
       "      <th>60606</th>\n",
       "      <td>washington  reuters    the top u s  senate dem...</td>\n",
       "      <td>0</td>\n",
       "    </tr>\n",
       "    <tr>\n",
       "      <th>60607</th>\n",
       "      <td>kuala lumpur  reuters    malaysian prime minis...</td>\n",
       "      <td>0</td>\n",
       "    </tr>\n",
       "    <tr>\n",
       "      <th>60608</th>\n",
       "      <td>washington  reuters    u s  president barack o...</td>\n",
       "      <td>0</td>\n",
       "    </tr>\n",
       "    <tr>\n",
       "      <th>60609</th>\n",
       "      <td>london  reuters    iranian president hassan ro...</td>\n",
       "      <td>0</td>\n",
       "    </tr>\n",
       "    <tr>\n",
       "      <th>60610</th>\n",
       "      <td>ankara  reuters    turkish president tayyip er...</td>\n",
       "      <td>0</td>\n",
       "    </tr>\n",
       "  </tbody>\n",
       "</table>\n",
       "<p>60608 rows × 2 columns</p>\n",
       "</div>"
      ],
      "text/plain": [
       "                                                    text  Target(Fake)\n",
       "0      washington  reuters    the united states on tu...             0\n",
       "1      an explosive allegation has come out of tasnim...             1\n",
       "2      new black panther entertainer of the year  bey...             1\n",
       "3      hillary s been using churches across america a...             1\n",
       "4      the queen of the dnc is in big trouble 1000  b...             1\n",
       "...                                                  ...           ...\n",
       "60606  washington  reuters    the top u s  senate dem...             0\n",
       "60607  kuala lumpur  reuters    malaysian prime minis...             0\n",
       "60608  washington  reuters    u s  president barack o...             0\n",
       "60609  london  reuters    iranian president hassan ro...             0\n",
       "60610  ankara  reuters    turkish president tayyip er...             0\n",
       "\n",
       "[60608 rows x 2 columns]"
      ]
     },
     "execution_count": 39,
     "metadata": {},
     "output_type": "execute_result"
    }
   ],
   "source": [
    "Df_master"
   ]
  },
  {
   "cell_type": "markdown",
   "id": "f49a3f2e",
   "metadata": {},
   "source": [
    "### Removing Tweets -Stop words"
   ]
  },
  {
   "cell_type": "code",
   "execution_count": 40,
   "id": "b9db6d01",
   "metadata": {},
   "outputs": [
    {
     "data": {
      "text/html": [
       "<div>\n",
       "<style scoped>\n",
       "    .dataframe tbody tr th:only-of-type {\n",
       "        vertical-align: middle;\n",
       "    }\n",
       "\n",
       "    .dataframe tbody tr th {\n",
       "        vertical-align: top;\n",
       "    }\n",
       "\n",
       "    .dataframe thead th {\n",
       "        text-align: right;\n",
       "    }\n",
       "</style>\n",
       "<table border=\"1\" class=\"dataframe\">\n",
       "  <thead>\n",
       "    <tr style=\"text-align: right;\">\n",
       "      <th></th>\n",
       "      <th>text</th>\n",
       "      <th>Target(Fake)</th>\n",
       "    </tr>\n",
       "  </thead>\n",
       "  <tbody>\n",
       "    <tr>\n",
       "      <th>0</th>\n",
       "      <td>washington reuters united states tuesday welco...</td>\n",
       "      <td>0</td>\n",
       "    </tr>\n",
       "    <tr>\n",
       "      <th>1</th>\n",
       "      <td>explosive allegation come tasnim news republic...</td>\n",
       "      <td>1</td>\n",
       "    </tr>\n",
       "    <tr>\n",
       "      <th>2</th>\n",
       "      <td>new black panther entertainer year beyonce sho...</td>\n",
       "      <td>1</td>\n",
       "    </tr>\n",
       "    <tr>\n",
       "      <th>3</th>\n",
       "      <td>hillary using churches across america backdrop...</td>\n",
       "      <td>1</td>\n",
       "    </tr>\n",
       "    <tr>\n",
       "      <th>4</th>\n",
       "      <td>queen dnc big trouble 1000 berners walked ca g...</td>\n",
       "      <td>1</td>\n",
       "    </tr>\n",
       "  </tbody>\n",
       "</table>\n",
       "</div>"
      ],
      "text/plain": [
       "                                                text  Target(Fake)\n",
       "0  washington reuters united states tuesday welco...             0\n",
       "1  explosive allegation come tasnim news republic...             1\n",
       "2  new black panther entertainer year beyonce sho...             1\n",
       "3  hillary using churches across america backdrop...             1\n",
       "4  queen dnc big trouble 1000 berners walked ca g...             1"
      ]
     },
     "execution_count": 40,
     "metadata": {},
     "output_type": "execute_result"
    }
   ],
   "source": [
    "stop = stopwords.words('english')\n",
    "Df_master['text'] = Df_master['text'].apply(lambda x: ' '.join([word for word in x.split() if word not in (stop)]))\n",
    "Df_master.head()"
   ]
  },
  {
   "cell_type": "code",
   "execution_count": 41,
   "id": "35c72bfb",
   "metadata": {},
   "outputs": [],
   "source": [
    "Df_master = Df_master.copy()\n",
    "Df_master.text = Df_master.text.str.replace('Reuters', '')"
   ]
  },
  {
   "cell_type": "markdown",
   "id": "e5fd4935",
   "metadata": {},
   "source": [
    "# Developing Models"
   ]
  },
  {
   "cell_type": "markdown",
   "id": "91dbea68",
   "metadata": {},
   "source": [
    "### Splitting the Data into training and testing data"
   ]
  },
  {
   "cell_type": "code",
   "execution_count": 42,
   "id": "249d5fcd",
   "metadata": {},
   "outputs": [],
   "source": [
    "text_df = Df_master['text']\n",
    "target_df = Df_master['Target(Fake)']"
   ]
  },
  {
   "cell_type": "code",
   "execution_count": 43,
   "id": "467fd2c1",
   "metadata": {},
   "outputs": [],
   "source": [
    "X_train, X_test, y_train, y_test = train_test_split(text_df,target_df, random_state = 42)"
   ]
  },
  {
   "cell_type": "markdown",
   "id": "30fc455b",
   "metadata": {},
   "source": [
    "### Checking the splitted data (Training and Testing)"
   ]
  },
  {
   "cell_type": "code",
   "execution_count": 44,
   "id": "93345601",
   "metadata": {},
   "outputs": [
    {
     "name": "stdout",
     "output_type": "stream",
     "text": [
      "\n",
      "x_train shape: (45456,), \n",
      "y_train shape: (45456,),\n",
      "X_test shape: (15152,),\n",
      "y_test shape: (15152,)\n",
      "\n"
     ]
    }
   ],
   "source": [
    "print(f\"\"\"\n",
    "x_train shape: {X_train.shape}, \n",
    "y_train shape: {y_train.shape},\n",
    "X_test shape: {X_test.shape},\n",
    "y_test shape: {y_test.shape}\n",
    "\"\"\" )"
   ]
  },
  {
   "cell_type": "markdown",
   "id": "31b3b754",
   "metadata": {},
   "source": [
    "# Developing Models"
   ]
  },
  {
   "cell_type": "markdown",
   "id": "5c1f3ab2",
   "metadata": {},
   "source": [
    "### Defines a few hyperparameters"
   ]
  },
  {
   "cell_type": "code",
   "execution_count": 45,
   "id": "034db20b",
   "metadata": {},
   "outputs": [],
   "source": [
    "max_words = 4000\n",
    "max_len = 500"
   ]
  },
  {
   "cell_type": "markdown",
   "id": "818e96b4",
   "metadata": {},
   "source": [
    "### Creates a tokenizer and first tokenizes the words"
   ]
  },
  {
   "cell_type": "code",
   "execution_count": 46,
   "id": "24496119",
   "metadata": {},
   "outputs": [],
   "source": [
    "token = Tokenizer(num_words=max_words, lower=True, split=' ')\n",
    "token.fit_on_texts(X_train.values)"
   ]
  },
  {
   "cell_type": "markdown",
   "id": "c5df1b00",
   "metadata": {},
   "source": [
    "### The sequence and padded process"
   ]
  },
  {
   "cell_type": "code",
   "execution_count": 47,
   "id": "058caeb4",
   "metadata": {},
   "outputs": [],
   "source": [
    "sequences = token.texts_to_sequences(X_train.values)\n",
    "train_sequences_padded = pad_sequences(sequences, maxlen=max_len)"
   ]
  },
  {
   "cell_type": "markdown",
   "id": "4fbc3ce1",
   "metadata": {},
   "source": [
    "## LSTM(Long Short Term Memory) Model"
   ]
  },
  {
   "cell_type": "markdown",
   "id": "37aa16fe",
   "metadata": {},
   "source": [
    "### Setting the model parameters "
   ]
  },
  {
   "cell_type": "code",
   "execution_count": 48,
   "id": "23a72a4f",
   "metadata": {},
   "outputs": [],
   "source": [
    "embed_dim = 50\n",
    "lstm_out = 64\n",
    "batch_size = 32"
   ]
  },
  {
   "cell_type": "markdown",
   "id": "94627b47",
   "metadata": {},
   "source": [
    "### Building the LSTM(Long Short Term Memory) Model"
   ]
  },
  {
   "cell_type": "code",
   "execution_count": 49,
   "id": "0b0f597d",
   "metadata": {},
   "outputs": [
    {
     "name": "stderr",
     "output_type": "stream",
     "text": [
      "2022-08-15 10:16:07.885101: I tensorflow/core/platform/cpu_feature_guard.cc:151] This TensorFlow binary is optimized with oneAPI Deep Neural Network Library (oneDNN) to use the following CPU instructions in performance-critical operations:  AVX2 FMA\n",
      "To enable them in other operations, rebuild TensorFlow with the appropriate compiler flags.\n"
     ]
    },
    {
     "name": "stdout",
     "output_type": "stream",
     "text": [
      "Model: \"sequential\"\n",
      "_________________________________________________________________\n",
      " Layer (type)                Output Shape              Param #   \n",
      "=================================================================\n",
      " embedding (Embedding)       (None, 500, 50)           200000    \n",
      "                                                                 \n",
      " conv1d (Conv1D)             (None, 496, 64)           16064     \n",
      "                                                                 \n",
      " lstm (LSTM)                 (None, 64)                33024     \n",
      "                                                                 \n",
      " dense (Dense)               (None, 256)               16640     \n",
      "                                                                 \n",
      " activation (Activation)     (None, 256)               0         \n",
      "                                                                 \n",
      " dropout (Dropout)           (None, 256)               0         \n",
      "                                                                 \n",
      " out_layer (Dense)           (None, 1)                 257       \n",
      "                                                                 \n",
      " activation_1 (Activation)   (None, 1)                 0         \n",
      "                                                                 \n",
      "=================================================================\n",
      "Total params: 265,985\n",
      "Trainable params: 265,985\n",
      "Non-trainable params: 0\n",
      "_________________________________________________________________\n",
      "None\n"
     ]
    }
   ],
   "source": [
    "model_lstm = Sequential()\n",
    "#\n",
    "model_lstm.add(Embedding(max_words, embed_dim, input_length = max_len))\n",
    "#\n",
    "model_lstm.add(Conv1D(64, 5, activation='relu'))\n",
    "#\n",
    "model_lstm.add(LSTM(lstm_out))\n",
    "#\n",
    "model_lstm.add(Dense(256))\n",
    "#\n",
    "model_lstm.add(Activation('relu'))\n",
    "#\n",
    "model_lstm.add(Dropout(0.5))\n",
    "#\n",
    "model_lstm.add(Dense(1, name='out_layer'))\n",
    "#\n",
    "model_lstm.add(Activation('sigmoid'))\n",
    "#\n",
    "model_lstm.compile(loss = 'binary_crossentropy',optimizer='adam', metrics = ['accuracy'])\n",
    "print(model_lstm.summary())"
   ]
  },
  {
   "cell_type": "markdown",
   "id": "1c739ab1",
   "metadata": {},
   "source": [
    "### Training the LSTM Model"
   ]
  },
  {
   "cell_type": "code",
   "execution_count": 50,
   "id": "c1919d4e",
   "metadata": {},
   "outputs": [
    {
     "name": "stdout",
     "output_type": "stream",
     "text": [
      "Epoch 1/3\n",
      "1137/1137 [==============================] - 208s 181ms/step - loss: 0.1282 - accuracy: 0.9505 - val_loss: 0.0487 - val_accuracy: 0.9865\n",
      "Epoch 2/3\n",
      "1137/1137 [==============================] - 210s 185ms/step - loss: 0.0467 - accuracy: 0.9875 - val_loss: 0.0308 - val_accuracy: 0.9914\n",
      "Epoch 3/3\n",
      "1137/1137 [==============================] - 224s 197ms/step - loss: 0.0419 - accuracy: 0.9891 - val_loss: 0.0340 - val_accuracy: 0.9918\n"
     ]
    }
   ],
   "source": [
    "history_lstm = model_lstm.fit(train_sequences_padded, y_train, batch_size=batch_size, epochs = 3, validation_split=0.2)"
   ]
  },
  {
   "cell_type": "markdown",
   "id": "b27ed05a",
   "metadata": {},
   "source": [
    "### Evaluating the LSTM Model on test dataset"
   ]
  },
  {
   "cell_type": "code",
   "execution_count": 51,
   "id": "50c32460",
   "metadata": {},
   "outputs": [],
   "source": [
    "test_sequences = token.texts_to_sequences(X_test)\n",
    "test_sequences_padded = pad_sequences(test_sequences, maxlen=max_len)"
   ]
  },
  {
   "cell_type": "code",
   "execution_count": 52,
   "id": "9eb43126",
   "metadata": {},
   "outputs": [
    {
     "name": "stdout",
     "output_type": "stream",
     "text": [
      "474/474 [==============================] - 22s 46ms/step - loss: 0.0337 - accuracy: 0.9924\n"
     ]
    }
   ],
   "source": [
    "evaluation_lstm=model_lstm.evaluate(test_sequences_padded, y_test)"
   ]
  },
  {
   "cell_type": "markdown",
   "id": "d4140e04",
   "metadata": {},
   "source": [
    "# Building plots to summarize history of LSTM MODEL trainig process "
   ]
  },
  {
   "cell_type": "code",
   "execution_count": 53,
   "id": "02812068",
   "metadata": {},
   "outputs": [
    {
     "name": "stdout",
     "output_type": "stream",
     "text": [
      "dict_keys(['loss', 'accuracy', 'val_loss', 'val_accuracy'])\n"
     ]
    }
   ],
   "source": [
    "print(history_lstm.history.keys())"
   ]
  },
  {
   "cell_type": "markdown",
   "id": "7f64c21f",
   "metadata": {},
   "source": [
    "### LSTM Model  'Training' and 'Validation' Accuracy"
   ]
  },
  {
   "cell_type": "code",
   "execution_count": 54,
   "id": "d9d6bea1",
   "metadata": {},
   "outputs": [
    {
     "data": {
      "image/png": "[encoded data removed]",
      "text/plain": [
       "<Figure size 432x288 with 1 Axes>"
      ]
     },
     "metadata": {
      "needs_background": "light"
     },
     "output_type": "display_data"
    }
   ],
   "source": [
    "plt.plot(history_lstm.history['accuracy'])\n",
    "plt.plot(history_lstm.history['val_accuracy'])\n",
    "plt.title('LSTM model accuracy')\n",
    "plt.ylabel('Accuracy')\n",
    "plt.xlabel('Epoch')\n",
    "plt.legend(['LSTM_train', 'LSTM_validation'], loc='lower right')\n",
    "plt.show()"
   ]
  },
  {
   "cell_type": "markdown",
   "id": "22d9e234",
   "metadata": {},
   "source": [
    "### LSTM Model  'Training' and 'Validation' Loss"
   ]
  },
  {
   "cell_type": "code",
   "execution_count": 55,
   "id": "10f1b42f",
   "metadata": {},
   "outputs": [
    {
     "data": {
      "text/plain": [
       "<matplotlib.legend.Legend at 0x7fb0728e5fd0>"
      ]
     },
     "execution_count": 55,
     "metadata": {},
     "output_type": "execute_result"
    },
    {
     "data": {
      "image/png": "[encoded data removed]",
      "text/plain": [
       "<Figure size 432x288 with 1 Axes>"
      ]
     },
     "metadata": {
      "needs_background": "light"
     },
     "output_type": "display_data"
    }
   ],
   "source": [
    "plt.plot(history_lstm.history['loss'])\n",
    "plt.plot(history_lstm.history['val_loss'])\n",
    "plt.title('LSTM model loss')\n",
    "plt.ylabel('Loss')\n",
    "plt.xlabel('Epoch')\n",
    "plt.legend(['LSTM_Train', 'LSTM_Validation'], loc = 'upper right')"
   ]
  },
  {
   "cell_type": "markdown",
   "id": "a20be302",
   "metadata": {},
   "source": [
    "### Saving the Predicted Data for LSTM"
   ]
  },
  {
   "cell_type": "code",
   "execution_count": 56,
   "id": "3441041e",
   "metadata": {},
   "outputs": [],
   "source": [
    "pred_data=model_lstm.predict(test_sequences_padded)"
   ]
  },
  {
   "cell_type": "code",
   "execution_count": 57,
   "id": "e7bc71d8",
   "metadata": {},
   "outputs": [],
   "source": [
    "pred_data_lstm=pred_data.copy()"
   ]
  },
  {
   "cell_type": "markdown",
   "id": "f30bbf9e",
   "metadata": {},
   "source": [
    "### Rounding the data (1 or 0 ) to classify"
   ]
  },
  {
   "cell_type": "code",
   "execution_count": 58,
   "id": "a1bc3e1b",
   "metadata": {},
   "outputs": [],
   "source": [
    "for data in range (len(pred_data_lstm)):\n",
    "    pred_data_lstm[data][0] = round (pred_data_lstm[data][0])"
   ]
  },
  {
   "cell_type": "markdown",
   "id": "b57e0e2d",
   "metadata": {},
   "source": [
    "### Creating confusion matrix and inserting the predictions and the expected values"
   ]
  },
  {
   "cell_type": "code",
   "execution_count": 59,
   "id": "ad360f75",
   "metadata": {},
   "outputs": [
    {
     "data": {
      "text/plain": [
       "<sklearn.metrics._plot.confusion_matrix.ConfusionMatrixDisplay at 0x7fb07220fd30>"
      ]
     },
     "metadata": {},
     "output_type": "display_data"
    },
    {
     "data": {
      "image/png": "[encoded data removed]",
      "text/plain": [
       "<Figure size 432x288 with 2 Axes>"
      ]
     },
     "metadata": {
      "needs_background": "light"
     },
     "output_type": "display_data"
    }
   ],
   "source": [
    "display(ConfusionMatrixDisplay(confusion_matrix(y_pred=pred_data_lstm,y_true=y_test), display_labels=['Fake', 'True']).plot())"
   ]
  },
  {
   "cell_type": "markdown",
   "id": "3715d8e8",
   "metadata": {},
   "source": [
    "### Creating classification_report for LSTM Model"
   ]
  },
  {
   "cell_type": "code",
   "execution_count": 60,
   "id": "b8b578d4",
   "metadata": {},
   "outputs": [
    {
     "name": "stdout",
     "output_type": "stream",
     "text": [
      "              precision    recall  f1-score   support\n",
      "\n",
      "           0       0.99      0.99      0.99      7388\n",
      "           1       0.99      0.99      0.99      7764\n",
      "\n",
      "    accuracy                           0.99     15152\n",
      "   macro avg       0.99      0.99      0.99     15152\n",
      "weighted avg       0.99      0.99      0.99     15152\n",
      "\n"
     ]
    }
   ],
   "source": [
    "print(classification_report(y_pred=pred_data_lstm,y_true=y_test))"
   ]
  },
  {
   "cell_type": "markdown",
   "id": "763750ca",
   "metadata": {},
   "source": [
    "## GRU (Gated recurrent unit) Model"
   ]
  },
  {
   "cell_type": "markdown",
   "id": "6b3e4289",
   "metadata": {},
   "source": [
    "### Setting the model parameters "
   ]
  },
  {
   "cell_type": "code",
   "execution_count": 61,
   "id": "08c59120",
   "metadata": {},
   "outputs": [],
   "source": [
    "embed_dim = 50\n",
    "gru_out = 64\n",
    "batch_size = 32"
   ]
  },
  {
   "cell_type": "markdown",
   "id": "2b7311dc",
   "metadata": {},
   "source": [
    "### Building the GRU-Model"
   ]
  },
  {
   "cell_type": "code",
   "execution_count": 62,
   "id": "78e9aee5",
   "metadata": {},
   "outputs": [
    {
     "name": "stdout",
     "output_type": "stream",
     "text": [
      "Model: \"sequential_1\"\n",
      "_________________________________________________________________\n",
      " Layer (type)                Output Shape              Param #   \n",
      "=================================================================\n",
      " embedding_1 (Embedding)     (None, 500, 50)           200000    \n",
      "                                                                 \n",
      " bidirectional (Bidirectiona  (None, 128)              44544     \n",
      " l)                                                              \n",
      "                                                                 \n",
      " dense_1 (Dense)             (None, 256)               33024     \n",
      "                                                                 \n",
      " activation_2 (Activation)   (None, 256)               0         \n",
      "                                                                 \n",
      " dropout_1 (Dropout)         (None, 256)               0         \n",
      "                                                                 \n",
      " out_layer (Dense)           (None, 1)                 257       \n",
      "                                                                 \n",
      " activation_3 (Activation)   (None, 1)                 0         \n",
      "                                                                 \n",
      "=================================================================\n",
      "Total params: 277,825\n",
      "Trainable params: 277,825\n",
      "Non-trainable params: 0\n",
      "_________________________________________________________________\n",
      "None\n"
     ]
    }
   ],
   "source": [
    "model_gru = Sequential()\n",
    "#\n",
    "model_gru.add(Embedding(max_words, embed_dim,input_length = max_len))\n",
    "#\n",
    "model_gru.add(Bidirectional(GRU(gru_out)))\n",
    "#\n",
    "model_gru.add(Dense(256))\n",
    "#\n",
    "model_gru.add(Activation('relu'))\n",
    "#\n",
    "model_gru.add(Dropout(0.5))\n",
    "#\n",
    "model_gru.add(Dense(1, name= \"out_layer\"))\n",
    "#\n",
    "model_gru.add(Activation('sigmoid'))\n",
    "#\n",
    "#\n",
    "model_gru.compile(loss = 'binary_crossentropy', optimizer='adam',metrics = ['accuracy'])\n",
    "print(model_gru.summary())"
   ]
  },
  {
   "cell_type": "markdown",
   "id": "15f5de2b",
   "metadata": {},
   "source": [
    "### Training the GRU-Model"
   ]
  },
  {
   "cell_type": "code",
   "execution_count": 76,
   "id": "7dba6caf",
   "metadata": {},
   "outputs": [
    {
     "name": "stdout",
     "output_type": "stream",
     "text": [
      "Epoch 1/2\n",
      "1137/1137 [==============================] - 264s 232ms/step - loss: 0.0050 - accuracy: 0.9986 - val_loss: 0.0208 - val_accuracy: 0.9949\n",
      "Epoch 2/2\n",
      "1137/1137 [==============================] - 286s 252ms/step - loss: 0.0035 - accuracy: 0.9988 - val_loss: 0.0164 - val_accuracy: 0.9968\n"
     ]
    }
   ],
   "source": [
    "history_gru=model_gru.fit(train_sequences_padded, y_train, batch_size=batch_size, epochs = 2, validation_split=0.2)"
   ]
  },
  {
   "cell_type": "markdown",
   "id": "eeb41f6b",
   "metadata": {},
   "source": [
    "### Evaluating the GRU- Model on test dataset (compare to test values)"
   ]
  },
  {
   "cell_type": "code",
   "execution_count": 77,
   "id": "085b7d3a",
   "metadata": {},
   "outputs": [
    {
     "name": "stdout",
     "output_type": "stream",
     "text": [
      "474/474 [==============================] - 17s 37ms/step - loss: 0.0198 - accuracy: 0.9960\n"
     ]
    }
   ],
   "source": [
    "evaluation_gru=model_gru.evaluate(test_sequences_padded, y_test)"
   ]
  },
  {
   "cell_type": "markdown",
   "id": "d7a414bd",
   "metadata": {},
   "source": [
    "# Building plots to summarize history of GRU- MODEL trainig process"
   ]
  },
  {
   "cell_type": "markdown",
   "id": "856e21a8",
   "metadata": {},
   "source": [
    "### GRU Model  'Training' and 'Validation' Accuracy"
   ]
  },
  {
   "cell_type": "code",
   "execution_count": 78,
   "id": "fa889fec",
   "metadata": {},
   "outputs": [
    {
     "data": {
      "image/png": "[encoded data removed]",
      "text/plain": [
       "<Figure size 432x288 with 1 Axes>"
      ]
     },
     "metadata": {
      "needs_background": "light"
     },
     "output_type": "display_data"
    }
   ],
   "source": [
    "plt.plot(history_gru.history['accuracy'])\n",
    "plt.plot(history_gru.history['val_accuracy'])\n",
    "plt.title('GRU model accuracy')\n",
    "plt.ylabel('Accuracy')\n",
    "plt.xlabel('Epoch')\n",
    "plt.legend(['GRU_train', 'GRU_validation'], loc='lower right')\n",
    "plt.show()"
   ]
  },
  {
   "cell_type": "markdown",
   "id": "c14f48d4",
   "metadata": {},
   "source": [
    "### GRU Model  'Training' and 'Validation' Loss"
   ]
  },
  {
   "cell_type": "code",
   "execution_count": 79,
   "id": "9915b244",
   "metadata": {},
   "outputs": [
    {
     "data": {
      "text/plain": [
       "<matplotlib.legend.Legend at 0x7fb05ee9ffd0>"
      ]
     },
     "execution_count": 79,
     "metadata": {},
     "output_type": "execute_result"
    },
    {
     "data": {
      "image/png": "[encoded data removed]",
      "text/plain": [
       "<Figure size 432x288 with 1 Axes>"
      ]
     },
     "metadata": {
      "needs_background": "light"
     },
     "output_type": "display_data"
    }
   ],
   "source": [
    "plt.plot(history_gru.history['loss'])\n",
    "plt.plot(history_gru.history['val_loss'])\n",
    "plt.title('GRU model loss')\n",
    "plt.ylabel('Loss')\n",
    "plt.xlabel('Epoch')\n",
    "plt.legend(['GRU_Train', 'GRU_Validation'], loc = 'upper right')"
   ]
  },
  {
   "cell_type": "markdown",
   "id": "7d65a1d6",
   "metadata": {},
   "source": [
    "### Saving the Predicted Data for GRU"
   ]
  },
  {
   "cell_type": "code",
   "execution_count": 80,
   "id": "72ff4e2f",
   "metadata": {},
   "outputs": [],
   "source": [
    "pred_data_2=model_gru.predict(test_sequences_padded)"
   ]
  },
  {
   "cell_type": "code",
   "execution_count": 81,
   "id": "3adf89c9",
   "metadata": {},
   "outputs": [],
   "source": [
    "pred_data_gru=pred_data_2.copy()"
   ]
  },
  {
   "cell_type": "markdown",
   "id": "1f9eac4b",
   "metadata": {},
   "source": [
    "### Rounding the data (1 or 0 ) to classify"
   ]
  },
  {
   "cell_type": "code",
   "execution_count": 82,
   "id": "2c5f0a35",
   "metadata": {},
   "outputs": [],
   "source": [
    "for data in range (len(pred_data_gru)):\n",
    "    pred_data_gru[data][0] = round (pred_data_gru[data][0])"
   ]
  },
  {
   "cell_type": "markdown",
   "id": "b45e7173",
   "metadata": {},
   "source": [
    "### Creating confusion matrix and inserting the predictions and the expected values"
   ]
  },
  {
   "cell_type": "code",
   "execution_count": 83,
   "id": "c17c70a7",
   "metadata": {},
   "outputs": [
    {
     "data": {
      "text/plain": [
       "<sklearn.metrics._plot.confusion_matrix.ConfusionMatrixDisplay at 0x7fb071e0df70>"
      ]
     },
     "metadata": {},
     "output_type": "display_data"
    },
    {
     "data": {
      "image/png": "[encoded data removed]",
      "text/plain": [
       "<Figure size 432x288 with 2 Axes>"
      ]
     },
     "metadata": {
      "needs_background": "light"
     },
     "output_type": "display_data"
    }
   ],
   "source": [
    "display(ConfusionMatrixDisplay(confusion_matrix(y_pred=pred_data_gru,y_true=y_test), display_labels=['Fake', 'True']).plot())"
   ]
  },
  {
   "cell_type": "markdown",
   "id": "821d3a0a",
   "metadata": {},
   "source": [
    "### Creating classification_report for GRU Model"
   ]
  },
  {
   "cell_type": "code",
   "execution_count": 84,
   "id": "ba696fb0",
   "metadata": {},
   "outputs": [
    {
     "name": "stdout",
     "output_type": "stream",
     "text": [
      "              precision    recall  f1-score   support\n",
      "\n",
      "           0       1.00      0.99      1.00      7388\n",
      "           1       1.00      1.00      1.00      7764\n",
      "\n",
      "    accuracy                           1.00     15152\n",
      "   macro avg       1.00      1.00      1.00     15152\n",
      "weighted avg       1.00      1.00      1.00     15152\n",
      "\n"
     ]
    }
   ],
   "source": [
    "print(classification_report(y_pred=pred_data_gru,y_true=y_test))"
   ]
  },
  {
   "cell_type": "markdown",
   "id": "f5a2d9e4",
   "metadata": {},
   "source": [
    "# Saving the models , in order to use them elsewhere"
   ]
  },
  {
   "cell_type": "code",
   "execution_count": 85,
   "id": "ccab6658",
   "metadata": {},
   "outputs": [],
   "source": [
    "import pickle "
   ]
  },
  {
   "cell_type": "markdown",
   "id": "a754475d",
   "metadata": {},
   "source": [
    "### Tokeniser"
   ]
  },
  {
   "cell_type": "code",
   "execution_count": 86,
   "id": "8d01573b",
   "metadata": {},
   "outputs": [],
   "source": [
    "pickle.dump(token, open('Tokeniser.pkl', 'wb'))"
   ]
  },
  {
   "cell_type": "markdown",
   "id": "9e00e892",
   "metadata": {},
   "source": [
    "### LSTM model"
   ]
  },
  {
   "cell_type": "code",
   "execution_count": 87,
   "id": "3512ef85",
   "metadata": {},
   "outputs": [
    {
     "name": "stderr",
     "output_type": "stream",
     "text": [
      "WARNING:absl:Found untraced functions such as lstm_cell_layer_call_fn, lstm_cell_layer_call_and_return_conditional_losses while saving (showing 2 of 2). These functions will not be directly callable after loading.\n"
     ]
    },
    {
     "name": "stdout",
     "output_type": "stream",
     "text": [
      "INFO:tensorflow:Assets written to: ram://e5a642b8-ff2a-4f61-98a8-c1e5e01f7051/assets\n"
     ]
    },
    {
     "name": "stderr",
     "output_type": "stream",
     "text": [
      "INFO:tensorflow:Assets written to: ram://e5a642b8-ff2a-4f61-98a8-c1e5e01f7051/assets\n",
      "WARNING:absl:<keras.layers.recurrent.LSTMCell object at 0x7fb0803da7f0> has the same name 'LSTMCell' as a built-in Keras object. Consider renaming <class 'keras.layers.recurrent.LSTMCell'> to avoid naming conflicts when loading with `tf.keras.models.load_model`. If renaming is not possible, pass the object in the `custom_objects` parameter of the load function.\n"
     ]
    }
   ],
   "source": [
    "pickle.dump(model_lstm, open('LSTM_MODEL.pkl', 'wb'))"
   ]
  },
  {
   "cell_type": "markdown",
   "id": "16dc62ca",
   "metadata": {},
   "source": [
    "### GRU model"
   ]
  },
  {
   "cell_type": "code",
   "execution_count": 88,
   "id": "6f6affe3",
   "metadata": {},
   "outputs": [
    {
     "name": "stderr",
     "output_type": "stream",
     "text": [
      "WARNING:absl:Found untraced functions such as gru_cell_1_layer_call_fn, gru_cell_1_layer_call_and_return_conditional_losses, gru_cell_2_layer_call_fn, gru_cell_2_layer_call_and_return_conditional_losses while saving (showing 4 of 4). These functions will not be directly callable after loading.\n"
     ]
    },
    {
     "name": "stdout",
     "output_type": "stream",
     "text": [
      "INFO:tensorflow:Assets written to: ram://d3a25c68-77b5-40bd-b0ba-169c7254b7d1/assets\n"
     ]
    },
    {
     "name": "stderr",
     "output_type": "stream",
     "text": [
      "INFO:tensorflow:Assets written to: ram://d3a25c68-77b5-40bd-b0ba-169c7254b7d1/assets\n",
      "WARNING:absl:<keras.layers.recurrent.GRUCell object at 0x7fb07222e490> has the same name 'GRUCell' as a built-in Keras object. Consider renaming <class 'keras.layers.recurrent.GRUCell'> to avoid naming conflicts when loading with `tf.keras.models.load_model`. If renaming is not possible, pass the object in the `custom_objects` parameter of the load function.\n",
      "WARNING:absl:<keras.layers.recurrent.GRUCell object at 0x7fb0722451f0> has the same name 'GRUCell' as a built-in Keras object. Consider renaming <class 'keras.layers.recurrent.GRUCell'> to avoid naming conflicts when loading with `tf.keras.models.load_model`. If renaming is not possible, pass the object in the `custom_objects` parameter of the load function.\n"
     ]
    }
   ],
   "source": [
    "pickle.dump(model_gru, open('GRU_MODEL.pkl', 'wb'))"
   ]
  }
 ],
 "metadata": {
  "kernelspec": {
   "display_name": "Python 3 (ipykernel)",
   "language": "python",
   "name": "python3"
  },
  "language_info": {
   "codemirror_mode": {
    "name": "ipython",
    "version": 3
   },
   "file_extension": ".py",
   "mimetype": "text/x-python",
   "name": "python",
   "nbconvert_exporter": "python",
   "pygments_lexer": "ipython3",
   "version": "3.9.7"
  }
 },
 "nbformat": 4,
 "nbformat_minor": 5
}
